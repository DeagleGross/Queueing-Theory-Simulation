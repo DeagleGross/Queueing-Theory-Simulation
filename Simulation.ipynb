{
 "cells": [
  {
   "cell_type": "markdown",
   "metadata": {},
   "source": [
    "### Task Description"
   ]
  },
  {
   "cell_type": "code",
   "execution_count": 1,
   "metadata": {},
   "outputs": [
    {
     "data": {
      "text/plain": [
       "''"
      ]
     },
     "execution_count": 1,
     "metadata": {},
     "output_type": "execute_result"
    }
   ],
   "source": [
    "'''\n",
    "В цехе находятся 2 станка.\n",
    "В цех поступают детали в среднем через каждые 35 минут (здесь и далее подразумевается, что все времена распределены экспоненциально). \n",
    "Обработка детали производится на одном из двух станков.\n",
    "Первый обрабатывает деталь в среднем за 30 минут, при этом отвергает 10 % деталей, считая их бракованными.\n",
    "Второй обрабатывает деталь в среднем за 50 минут, при этом отвергает 20 % деталей, считая их бракованными.\n",
    "Если деталь была забракована в первый раз, то ее попробуют обработать еще раз после всех деталей, стоящих в очереди (будь то в очереди на первичную или вторичную обработку)\n",
    "Детали, которые были отвергнуты 2 раза, считаются отходами и не обслуживаются цехом.\n",
    "Детали, которые были отвергнуты на любом станке передаются на повторную обработку на второй станок. \n",
    "Моделирование проводится на 500 деталей.\n",
    "'''\n",
    ";"
   ]
  },
  {
   "cell_type": "code",
   "execution_count": 2,
   "metadata": {},
   "outputs": [
    {
     "data": {
      "text/plain": [
       "''"
      ]
     },
     "execution_count": 2,
     "metadata": {},
     "output_type": "execute_result"
    }
   ],
   "source": [
    "'''\n",
    "Каждый из станков имеет цену обработки (или попытки обработки) детали. \n",
    "Для первого станка цена обработки составляет 5$. Для второго - 2$.\n",
    "Цена готового изделия составляет 12 долларов.\n",
    "\n",
    "Предпринимателю, который владеет цехом, поступило предложение об обмене второго станка. Новый станок имеет цену обработки в 3 $. Время обработки - 40 минут в среднем. Вероятность браковки - 10%.\n",
    "\n",
    "Задача: выяснить какой из станков (старый 2-й или новый) будет более выгодный?\n",
    "а) прибыль\n",
    "б) прибыль \\ сек\n",
    "'''\n",
    ";"
   ]
  },
  {
   "cell_type": "code",
   "execution_count": 3,
   "metadata": {},
   "outputs": [],
   "source": [
    "import random\n",
    "import math\n",
    "import matplotlib.pyplot as plt\n",
    "%matplotlib inline"
   ]
  },
  {
   "cell_type": "markdown",
   "metadata": {},
   "source": [
    "## Variables"
   ]
  },
  {
   "cell_type": "code",
   "execution_count": 4,
   "metadata": {},
   "outputs": [],
   "source": [
    "# constants\n",
    "n = 500\n",
    "price_for_item = 12 # $\n",
    "\n",
    "work_price_first_machine = 5 # $\n",
    "work_price_second_machine = 2 # $\n",
    "work_price_third_machine = 3 # $\n",
    "\n",
    "decline_first_machine = 10 # %\n",
    "decline_second_machine = 20 # %\n",
    "decline_third_machine = 10 # %\n",
    "\n",
    "arrival_rate = 35 # min\n",
    "first_machine_speed = 30 # min\n",
    "second_machine_speed = 50 # min\n",
    "third_machine_speed = 40 # min\n",
    "\n",
    "first_reject_amount = 0\n",
    "first_success_amount = 0\n",
    "second_reject_amount = 0\n",
    "second_success_amount = 0\n",
    "\n",
    "garbage_amount = 0\n",
    "finished_amount = 0\n",
    "repeat_amount = 0\n",
    "\n",
    "# simulation variables\n",
    "x = list(range(n))\n",
    "current_time = 0\n",
    "first_machine_time = 0\n",
    "second_machine_time = 0\n",
    "\n",
    "# collections of elements\n",
    "customers_time_copy = []\n",
    "customers_status_copy = []\n",
    "\n",
    "customers_time = [] # arrive times distributed exponentially will be stored here\n",
    "customers_status = [] # str variable for each"
   ]
  },
  {
   "cell_type": "markdown",
   "metadata": {},
   "source": [
    "### Arrival times generation"
   ]
  },
  {
   "cell_type": "code",
   "execution_count": 5,
   "metadata": {},
   "outputs": [],
   "source": [
    "def get_random_arrival_time():\n",
    "    return round(random.expovariate(1.0/arrival_rate))"
   ]
  },
  {
   "cell_type": "code",
   "execution_count": 6,
   "metadata": {},
   "outputs": [],
   "source": [
    "def get_service_time_value(service_rate):\n",
    "    return round(random.expovariate(1.0 / service_rate))"
   ]
  },
  {
   "cell_type": "code",
   "execution_count": 7,
   "metadata": {},
   "outputs": [
    {
     "name": "stdout",
     "output_type": "stream",
     "text": [
      "Array of times between arrivals:\n",
      "[106, 27, 43, 124, 124, 22, 39, 18, 11, 3, 20, 67, 67, 47, 43, 43, 6, 52, 9, 19, 9, 1, 4, 32, 92, 15, 42, 69, 3, 47, 13, 13, 40, 10, 4, 28, 77, 0, 98, 83, 25, 9, 54, 44, 19, 15, 10, 50, 36, 48, 5, 39, 20, 7, 17, 51, 45, 12, 107, 7, 18, 26, 37, 15, 42, 13, 12, 10, 10, 32, 44, 33, 124, 14, 24, 16, 12, 5, 75, 5, 27, 19, 133, 35, 2, 33, 58, 3, 101, 48, 43, 21, 17, 9, 2, 1, 104, 50, 39, 32, 10, 60, 4, 120, 1, 167, 27, 84, 14, 16, 47, 64, 0, 11, 2, 38, 20, 92, 24, 21, 28, 39, 3, 24, 22, 35, 2, 2, 9, 53, 54, 24, 103, 46, 12, 1, 12, 2, 82, 58, 19, 52, 98, 4, 30, 26, 26, 18, 13, 24, 23, 16, 3, 40, 21, 4, 43, 8, 30, 8, 7, 7, 15, 16, 3, 90, 3, 126, 65, 5, 6, 18, 3, 8, 25, 25, 36, 27, 0, 45, 6, 4, 14, 16, 10, 59, 26, 17, 36, 8, 4, 19, 3, 13, 6, 93, 1, 8, 24, 8, 14, 7, 4, 42, 46, 18, 72, 72, 96, 3, 17, 64, 48, 1, 21, 108, 5, 0, 28, 23, 10, 0, 76, 44, 59, 22, 41, 12, 30, 156, 9, 7, 103, 19, 1, 6, 91, 61, 18, 111, 7, 5, 75, 62, 3, 22, 96, 28, 27, 38, 3, 5, 3, 39, 49, 3, 28, 7, 87, 8, 5, 69, 4, 82, 11, 4, 14, 61, 22, 1, 42, 2, 11, 1, 43, 65, 11, 7, 94, 23, 26, 43, 19, 14, 125, 14, 36, 20, 8, 48, 28, 13, 0, 17, 25, 7, 14, 16, 53, 2, 47, 46, 0, 26, 33, 30, 26, 10, 34, 37, 23, 42, 24, 29, 23, 10, 34, 21, 58, 49, 7, 25, 107, 44, 6, 115, 14, 24, 22, 33, 57, 67, 17, 61, 26, 22, 5, 16, 136, 39, 17, 15, 17, 11, 140, 27, 31, 68, 20, 35, 87, 24, 102, 21, 37, 19, 28, 44, 106, 12, 57, 10, 0, 44, 68, 19, 48, 22, 40, 10, 26, 40, 9, 21, 70, 107, 146, 20, 29, 64, 18, 26, 5, 31, 13, 1, 2, 64, 34, 17, 11, 28, 64, 29, 38, 11, 48, 33, 17, 74, 80, 98, 51, 17, 18, 14, 13, 47, 6, 59, 207, 7, 8, 16, 10, 27, 35, 12, 74, 24, 57, 15, 21, 58, 28, 51, 89, 43, 53, 36, 81, 46, 51, 24, 105, 46, 76, 52, 40, 29, 43, 18, 0, 2, 10, 5, 19, 30, 112, 2, 56, 6, 55, 16, 20, 11, 9, 17, 5, 52, 34, 39, 26, 62, 61, 64, 12, 87, 8, 91, 53, 44, 136, 34, 50, 27, 25, 1, 25, 19, 18, 3, 3, 6, 17, 52, 33, 130, 13, 72, 81, 2, 1, 179, 23, 26, 74, 84, 67]\n",
      "\n",
      "\n",
      "E(x) of times between arrivals\n",
      "34.904\n"
     ]
    },
    {
     "data": {
      "image/png": "[encoded data removed]",
      "text/plain": [
       "<Figure size 432x288 with 1 Axes>"
      ]
     },
     "metadata": {
      "needs_background": "light"
     },
     "output_type": "display_data"
    }
   ],
   "source": [
    "customers_time = []\n",
    "\n",
    "def through_time_generation():\n",
    "    curr_time = 0\n",
    "    waiting_time = 0\n",
    "\n",
    "    for i in x:\n",
    "        waiting_time = get_random_arrival_time()\n",
    "        customers_time.append(curr_time + waiting_time)\n",
    "        curr_time += waiting_time\n",
    "\n",
    "## this works incorrectly\n",
    "## because sometimes time is going in other direction\n",
    "def through_const_generation():\n",
    "    value = 0\n",
    "    \n",
    "    for i in x:\n",
    "        value = get_random_arrival_time()\n",
    "        customers_time.append(i * arrival_rate + value)\n",
    "\n",
    "## HERE I'M CALLING FUNCTION\n",
    "## THAT IS WORKING IN THIS WAY:\n",
    "## every iteration generating exp-distributed value with rate=35 (lambda = 1/rate)\n",
    "## and curr_time_{i} has sum of all generated waiting_times (on previous row) till i-th iteration \n",
    "\n",
    "through_time_generation()\n",
    "#through_const_generation()\n",
    "\n",
    "between_arrival_times = []\n",
    "for i in range(1, n):\n",
    "    between_arrival_times.append(customers_time[i] - customers_time[i-1])\n",
    "\n",
    "print('Array of times between arrivals:')\n",
    "print(between_arrival_times)\n",
    "print('\\n\\nE(x) of times between arrivals')\n",
    "print(sum(between_arrival_times)/n)\n",
    "    \n",
    "fig, ax = plt.subplots()\n",
    "ax.plot(range(n - 1), between_arrival_times, label = 'Times between arrivals', color='blue')\n",
    "\n",
    "sorted_between_arrival_times = sorted(between_arrival_times)\n",
    "\n",
    "ax.plot(range(n - 1), sorted_between_arrival_times, label = 'Sorted times between arrivals', linewidth= 4, color='orange')\n",
    "ax.legend()\n",
    "plt.show()"
   ]
  },
  {
   "cell_type": "markdown",
   "metadata": {},
   "source": [
    "## Setup for other variables states"
   ]
  },
  {
   "cell_type": "code",
   "execution_count": 8,
   "metadata": {},
   "outputs": [],
   "source": [
    "for i in x:\n",
    "    customers_status.append('arrive')\n",
    "\n",
    "## setting all initial times to status 'arrive'"
   ]
  },
  {
   "cell_type": "markdown",
   "metadata": {},
   "source": [
    "## Functions Implementation"
   ]
  },
  {
   "cell_type": "code",
   "execution_count": 9,
   "metadata": {},
   "outputs": [],
   "source": [
    "# choose machine\n",
    "def number_of_machine_to_work_on():\n",
    "    rnd = random.random()\n",
    "    if (rnd < 0.5):\n",
    "        #print('goes to machine #1 in experiment')\n",
    "        return 1\n",
    "    else:\n",
    "        #print('goes to machine #2 in experiment')\n",
    "        return 2"
   ]
  },
  {
   "cell_type": "code",
   "execution_count": 10,
   "metadata": {},
   "outputs": [],
   "source": [
    "# returns true if machine doesn't decline item\n",
    "def work_with_item(percentage_for_decline):\n",
    "    r = random.random()\n",
    "    \n",
    "    if (r < percentage_for_decline / 100):\n",
    "        return 0\n",
    "    return 1"
   ]
  },
  {
   "cell_type": "code",
   "execution_count": 11,
   "metadata": {},
   "outputs": [],
   "source": [
    "def first_machine():\n",
    "    global current_time\n",
    "    global first_success_amount\n",
    "    global first_reject_amount\n",
    "    global first_machine_time\n",
    "    \n",
    "    #print('current_time = ', current_time)\n",
    "    #print('first_machine_time = ', first_machine_time)\n",
    "\n",
    "    if (work_with_item(decline_first_machine)):\n",
    "        first_success_amount += 1\n",
    "        \n",
    "        if (first_machine_time <= current_time):\n",
    "            # work is done for this item\n",
    "            first_machine_time = current_time + get_service_time_value(first_machine_speed)\n",
    "            customers_time.append(first_machine_time)\n",
    "            customers_status.append('finished')\n",
    "        else:\n",
    "            # work is done after current-working-item finished working\n",
    "            first_machine_time += get_service_time_value(first_machine_speed)\n",
    "            customers_time.append(first_machine_time)\n",
    "            customers_status.append('finished')\n",
    "    else:\n",
    "        first_reject_amount += 1\n",
    "        customers_time.append(first_machine_time)\n",
    "        customers_status.append('repeat')"
   ]
  },
  {
   "cell_type": "code",
   "execution_count": 12,
   "metadata": {},
   "outputs": [],
   "source": [
    "def second_machine(isRepeating):\n",
    "    global current_time\n",
    "    global second_success_amount\n",
    "    global second_reject_amount\n",
    "    global second_machine_time\n",
    "    global garbage_amount\n",
    "    \n",
    "    #print('current_time = ', current_time)\n",
    "    #print('second_machine_time = ', second_machine_time)\n",
    "    \n",
    "    if (work_with_item(decline_second_machine)):\n",
    "        second_success_amount += 1\n",
    "        \n",
    "        if (second_machine_time <= current_time):\n",
    "            # work is done for this item\n",
    "            second_machine_time = current_time + get_service_time_value(second_machine_speed)\n",
    "            customers_time.append(second_machine_time)\n",
    "            customers_status.append('finished')\n",
    "        else:\n",
    "            # work is done after current-working-item finished working\n",
    "            second_machine_time += get_service_time_value(second_machine_speed)\n",
    "            customers_time.append(second_machine_time)\n",
    "            customers_status.append('finished')\n",
    "    else:\n",
    "        if (isRepeating == 1):\n",
    "            customers_time.append(second_machine_time)\n",
    "            customers_status.append('garbage')\n",
    "            return\n",
    "        \n",
    "        second_reject_amount += 1\n",
    "        customers_time.append(second_machine_time)\n",
    "        customers_status.append('repeat')"
   ]
  },
  {
   "cell_type": "code",
   "execution_count": 13,
   "metadata": {},
   "outputs": [],
   "source": [
    "def third_machine(isRepeating):\n",
    "    global current_time\n",
    "    global second_success_amount\n",
    "    global second_reject_amount\n",
    "    global second_machine_time\n",
    "    global garbage_amount\n",
    "    \n",
    "    #print('current_time = ', current_time)\n",
    "    #print('second_machine_time = ', second_machine_time)\n",
    "    \n",
    "    if (work_with_item(decline_third_machine)):\n",
    "        second_success_amount += 1\n",
    "        \n",
    "        if (second_machine_time <= current_time):\n",
    "            # work is done for this item\n",
    "            second_machine_time = current_time + get_service_time_value(third_machine_speed)\n",
    "            customers_time.append(second_machine_time)\n",
    "            customers_status.append('finished')\n",
    "        else:\n",
    "            # work is done after current-working-item finished working\n",
    "            second_machine_time += get_service_time_value(third_machine_speed)\n",
    "            customers_time.append(second_machine_time)\n",
    "            customers_status.append('finished')\n",
    "    else:\n",
    "        if (isRepeating == 1):\n",
    "            customers_time.append(second_machine_time)\n",
    "            customers_status.append('garbage')\n",
    "            return\n",
    "        \n",
    "        second_reject_amount += 1\n",
    "        customers_time.append(second_machine_time)\n",
    "        customers_status.append('repeat')"
   ]
  },
  {
   "cell_type": "markdown",
   "metadata": {},
   "source": [
    "## Simulation with machine №2"
   ]
  },
  {
   "cell_type": "code",
   "execution_count": 14,
   "metadata": {
    "scrolled": true
   },
   "outputs": [],
   "source": [
    "i = 0 # current arrival that is supported\n",
    "\n",
    "customers_time_copy = customers_time.copy()\n",
    "customers_status_copy = customers_status.copy()\n",
    "\n",
    "while (i < len(customers_time)):\n",
    "    #print('Item # ', i)\n",
    "    \n",
    "    if (i < n):\n",
    "        current_time = customers_time[i]\n",
    "    \n",
    "    # we have to synchronize 2-nd machine and current time\n",
    "    #if (i == n):\n",
    "        #print('amount of works done on 2nd machine before repeating:', second_success_amount + second_reject_amount)\n",
    "        #print('first_machine_time = ', first_machine_time)\n",
    "        #print('second_machine_time = ', second_machine_time)\n",
    "        #print('current_time = ', current_time)\n",
    "    \n",
    "    # ARRIVALS\n",
    "    if (customers_status[i] == 'arrive'):\n",
    "        machine_number = number_of_machine_to_work_on()\n",
    "        if (machine_number == 1):\n",
    "            first_machine()\n",
    "        if (machine_number == 2):\n",
    "            second_machine(0)\n",
    "    \n",
    "    # FINISHED\n",
    "    if (customers_status[i] == 'finished'):\n",
    "        #print('finished')\n",
    "        finished_amount += 1\n",
    "        \n",
    "    # REPEAT\n",
    "    if (customers_status[i] == 'repeat'):\n",
    "        #print('repeat')\n",
    "        second_machine(1)\n",
    "        repeat_amount += 1\n",
    "    \n",
    "    # GARBAGE\n",
    "    if (customers_status[i] == 'garbage'):\n",
    "        #print('garbage')\n",
    "        garbage_amount += 1\n",
    "        \n",
    "    i += 1"
   ]
  },
  {
   "cell_type": "markdown",
   "metadata": {},
   "source": [
    "## Results"
   ]
  },
  {
   "cell_type": "code",
   "execution_count": 15,
   "metadata": {},
   "outputs": [
    {
     "name": "stdout",
     "output_type": "stream",
     "text": [
      "Rejects: first [ 27 ], second [ 50 ]\n",
      "Successes: first [ 232 ], second [ 254 ]\n",
      "Garbage items:  14\n",
      "Finishes:  486\n",
      "Repeats:  77\n",
      "Time spent:  20741 seconds\n",
      "Money earned:  5832 $\n",
      "Money spent:  1903 $\n",
      "Profit money:  3929 $\n",
      "Profit($)\\sec: 0.1894315606769201\n"
     ]
    }
   ],
   "source": [
    "current_time = second_machine_time\n",
    "\n",
    "print('Rejects: first [', first_reject_amount, '], second [', second_reject_amount, ']')\n",
    "print('Successes: first [', first_success_amount, '], second [', second_success_amount, ']')\n",
    "print('Garbage items: ', garbage_amount)\n",
    "print('Finishes: ', finished_amount)\n",
    "print('Repeats: ', repeat_amount)\n",
    "\n",
    "print('Time spent: ', current_time, 'seconds')\n",
    "\n",
    "money_earned = price_for_item * (finished_amount)\n",
    "\n",
    "money_spent = work_price_first_machine * (first_success_amount + first_reject_amount)\n",
    "money_spent += work_price_second_machine * (second_success_amount + second_reject_amount)\n",
    "\n",
    "profit = money_earned - money_spent\n",
    "\n",
    "print('Money earned: ', money_earned, '$')\n",
    "print('Money spent: ', money_spent, '$')\n",
    "\n",
    "print('Profit money: ', profit, '$')\n",
    "print('Profit($)\\sec:', profit / current_time)"
   ]
  },
  {
   "cell_type": "markdown",
   "metadata": {},
   "source": [
    "## Simulation with machine №3"
   ]
  },
  {
   "cell_type": "code",
   "execution_count": 16,
   "metadata": {},
   "outputs": [],
   "source": [
    "first_reject_amount = 0\n",
    "first_success_amount = 0\n",
    "second_reject_amount = 0\n",
    "second_success_amount = 0\n",
    "\n",
    "second_machine_time = 0\n",
    "first_machine_time = 0\n",
    "\n",
    "garbage_amount = 0\n",
    "finished_amount = 0\n",
    "repeat_amount = 0\n",
    "\n",
    "current_time = 0\n",
    "\n",
    "i = 0 # current arrival that is supported\n",
    "\n",
    "customers_time = customers_time_copy\n",
    "customers_status = customers_status_copy\n",
    "\n",
    "while (i < len(customers_time)):\n",
    "    #print('Item # ', i)\n",
    "        \n",
    "    if (i < n):\n",
    "        current_time = customers_time[i]\n",
    "    \n",
    "    # we have to synchronize 2-nd machine and current time\n",
    "    '''\n",
    "    if (i == n):\n",
    "        print('amount of works done on 2nd machine before repeating:', second_success_amount + second_reject_amount)\n",
    "        print('first_machine_time = ', first_machine_time)\n",
    "        print('second_machine_time = ', second_machine_time)\n",
    "        print('current_time = ', current_time)\n",
    "    '''\n",
    "    \n",
    "    # ARRIVALS\n",
    "    if (customers_status[i] == 'arrive'):\n",
    "        #print('arrive')\n",
    "        machine_number = number_of_machine_to_work_on()\n",
    "        if (machine_number == 1):\n",
    "            first_machine()\n",
    "        if (machine_number == 2):\n",
    "            third_machine(0)\n",
    "    \n",
    "    # FINISHED\n",
    "    if (customers_status[i] == 'finished'):\n",
    "        #print('finished')\n",
    "        finished_amount += 1\n",
    "        \n",
    "    # REPEAT\n",
    "    if (customers_status[i] == 'repeat'):\n",
    "        #print('repeat')\n",
    "        third_machine(1)\n",
    "        repeat_amount += 1\n",
    "    \n",
    "    # GARBAGE\n",
    "    if (customers_status[i] == 'garbage'):\n",
    "        #print('garbage')\n",
    "        garbage_amount += 1\n",
    "        \n",
    "    i += 1"
   ]
  },
  {
   "cell_type": "code",
   "execution_count": 17,
   "metadata": {},
   "outputs": [
    {
     "name": "stdout",
     "output_type": "stream",
     "text": [
      "Rejects: first [ 26 ], second [ 28 ]\n",
      "Successes: first [ 238 ], second [ 254 ]\n",
      "Garbage items:  8\n",
      "Finishes:  492\n",
      "Repeats:  54\n",
      "Time spent:  19007 seconds\n",
      "Money earned:  5904 $\n",
      "Money spent:  2166 $\n",
      "Profit money:  3738 $\n",
      "Profit($)\\sec: 0.19666438680486137\n"
     ]
    }
   ],
   "source": [
    "current_time = second_machine_time\n",
    "\n",
    "print('Rejects: first [', first_reject_amount, '], second [', second_reject_amount, ']')\n",
    "print('Successes: first [', first_success_amount, '], second [', second_success_amount, ']')\n",
    "print('Garbage items: ', garbage_amount)\n",
    "print('Finishes: ', finished_amount)\n",
    "print('Repeats: ', repeat_amount)\n",
    "\n",
    "print('Time spent: ', current_time, 'seconds')\n",
    "\n",
    "money_earned = price_for_item * (finished_amount)\n",
    "\n",
    "money_spent = work_price_first_machine * (first_success_amount + first_reject_amount)\n",
    "money_spent += work_price_third_machine * (second_success_amount + second_reject_amount)\n",
    "\n",
    "profit = money_earned - money_spent\n",
    "\n",
    "print('Money earned: ', money_earned, '$')\n",
    "print('Money spent: ', money_spent, '$')\n",
    "\n",
    "print('Profit money: ', profit, '$')\n",
    "print('Profit($)\\sec:', profit / current_time)"
   ]
  }
 ],
 "metadata": {
  "kernelspec": {
   "display_name": "Python 3",
   "language": "python",
   "name": "python3"
  },
  "language_info": {
   "codemirror_mode": {
    "name": "ipython",
    "version": 3
   },
   "file_extension": ".py",
   "mimetype": "text/x-python",
   "name": "python",
   "nbconvert_exporter": "python",
   "pygments_lexer": "ipython3",
   "version": "3.7.3"
  }
 },
 "nbformat": 4,
 "nbformat_minor": 1
}
