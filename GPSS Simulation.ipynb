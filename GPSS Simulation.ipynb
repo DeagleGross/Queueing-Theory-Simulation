{
 "cells": [
  {
   "cell_type": "markdown",
   "metadata": {},
   "source": [
    "# Task Description\n",
    "\n",
    "В цехе находятся 2 станка.\n",
    "В цех поступают детали в среднем через каждые 35 минут (здесь и далее подразумевается, что все времена распределены экспоненциально).\n",
    "Обработка детали производится на одном из двух станков.\n",
    "Первый обрабатывает деталь в среднем за 30 минут, при этом отвергает 4% деталей, считая их бракованными.\n",
    "Второй обрабатывает деталь в среднем за 50 минут, при этом отвергает 8% деталей, считая их бракованными.\n",
    "Детали, которые были отвергнуты на обоих станках, считаются отходами и не обслуживаются цехом.\n",
    "Детали, которые были отвергнуты на любом станке передаются на повторную обработку на второй станок.\n",
    "Моделирование проводится на 500 деталей."
   ]
  },
  {
   "cell_type": "markdown",
   "metadata": {},
   "source": [
    "### Imports "
   ]
  },
  {
   "cell_type": "code",
   "execution_count": 1,
   "metadata": {},
   "outputs": [],
   "source": [
    "import random\n",
    "import math\n",
    "\n",
    "import matplotlib.pyplot as plt\n",
    "%matplotlib inline"
   ]
  },
  {
   "cell_type": "markdown",
   "metadata": {},
   "source": [
    "### Variables Declaration"
   ]
  },
  {
   "cell_type": "code",
   "execution_count": 2,
   "metadata": {},
   "outputs": [],
   "source": [
    "# constants\n",
    "amount_of_arrivals = 500\n",
    "decline_first_machine = 20\n",
    "decline_second_machine = 100\n",
    "\n",
    "first_reject_amount = 0\n",
    "first_success_amount = 0\n",
    "second_reject_amount = 0\n",
    "second_success_amount = 0\n",
    "\n",
    "garbage_amount = 0\n",
    "finished_amount = 0\n",
    "repeat_amount = 0\n",
    "\n",
    "# simulation variables\n",
    "x = list(range(amount_of_arrivals))\n",
    "current_time = 0\n",
    "first_machine_time = 0\n",
    "second_machine_time = 0\n",
    "\n",
    "# collections of elements\n",
    "customers_time = [] # arrive times distributed exponentially will be stored here\n",
    "customers_status = [] # str variable for each "
   ]
  },
  {
   "cell_type": "markdown",
   "metadata": {},
   "source": [
    "### Generation of Exponentialy distributed time-arrivals"
   ]
  },
  {
   "cell_type": "code",
   "execution_count": 3,
   "metadata": {},
   "outputs": [],
   "source": [
    "    # custom function\n",
    "    #-35*math.log(random.random(), math.e);\n",
    "    \n",
    "    # exponential distibution with lambda = \n",
    "    #customers_arrive_time.append(random.expovariate(0.5))\n",
    "    \n",
    "    # normal distribution N(0,1)\n",
    "    #customers_arrive_time.append(random.gammavariate(0.1,1))"
   ]
  },
  {
   "cell_type": "code",
   "execution_count": 4,
   "metadata": {},
   "outputs": [],
   "source": [
    "def get_random_exp_value():\n",
    "    return round(random.expovariate(35 / 10000))"
   ]
  },
  {
   "cell_type": "code",
   "execution_count": 5,
   "metadata": {},
   "outputs": [],
   "source": [
    "def get_service_time_value(val):\n",
    "    return round(random.expovariate(val / 10000))"
   ]
  },
  {
   "cell_type": "code",
   "execution_count": 6,
   "metadata": {},
   "outputs": [
    {
     "data": {
      "text/plain": [
       "[<matplotlib.lines.Line2D at 0x1e540716be0>]"
      ]
     },
     "execution_count": 6,
     "metadata": {},
     "output_type": "execute_result"
    },
    {
     "data": {
      "image/png": "[encoded data removed]",
      "text/plain": [
       "<Figure size 432x288 with 1 Axes>"
      ]
     },
     "metadata": {
      "needs_background": "light"
     },
     "output_type": "display_data"
    }
   ],
   "source": [
    "customers_time = []\n",
    "\n",
    "for i in x:\n",
    "    customers_time.append(get_random_exp_value())\n",
    "    \n",
    "customers_time.sort()\n",
    "plt.plot(x, customers_time)\n",
    "\n",
    "#print(customers_time)\n",
    "\n",
    "# Допустим все окей. График выглядит правдоподобно для экспоненциального распределения (?)"
   ]
  },
  {
   "cell_type": "markdown",
   "metadata": {},
   "source": [
    "### Setup for other variables states"
   ]
  },
  {
   "cell_type": "code",
   "execution_count": 15,
   "metadata": {},
   "outputs": [],
   "source": [
    "for i in x:\n",
    "    customers_status.append('arrive')\n",
    "    \n",
    "#customers_status"
   ]
  },
  {
   "cell_type": "markdown",
   "metadata": {},
   "source": [
    "# Functions Implementation"
   ]
  },
  {
   "cell_type": "code",
   "execution_count": 8,
   "metadata": {},
   "outputs": [],
   "source": [
    "# choose machine\n",
    "def number_of_machine_to_work_on():\n",
    "    rnd = random.random()\n",
    "    if (rnd < 0.5):\n",
    "        return 1\n",
    "    else:\n",
    "        return 2"
   ]
  },
  {
   "cell_type": "code",
   "execution_count": 9,
   "metadata": {},
   "outputs": [],
   "source": [
    "# returns true if machine doesn't decline item\n",
    "def work_with_item(percentage_for_decline):\n",
    "    r = random.random()\n",
    "    \n",
    "    if (r < percentage_for_decline / 100):\n",
    "        return 0\n",
    "    return 1"
   ]
  },
  {
   "cell_type": "code",
   "execution_count": 10,
   "metadata": {},
   "outputs": [],
   "source": [
    "def first_machine():\n",
    "    global first_success_amount\n",
    "    global first_reject_amount\n",
    "    global first_machine_time\n",
    "    global current_time\n",
    "    \n",
    "    if (work_with_item(decline_first_machine)):\n",
    "        first_success_amount += 1\n",
    "        \n",
    "        if (first_machine_time <= current_time):\n",
    "            # work is done for this item\n",
    "            first_machine_time = current_time + get_service_time_value(30)\n",
    "            customers_time.append(first_machine_time)\n",
    "            customers_status.append('finished')\n",
    "        else:\n",
    "            # work is done after current-working-item finished working\n",
    "            first_machine_time += get_service_time_value(30)\n",
    "            customers_time.append(first_machine_time)\n",
    "            customers_status.append('finished')\n",
    "    else:\n",
    "        first_reject_amount += 1\n",
    "        customers_time.append(first_machine_time)\n",
    "        customers_status.append('repeat')"
   ]
  },
  {
   "cell_type": "code",
   "execution_count": 11,
   "metadata": {},
   "outputs": [],
   "source": [
    "def second_machine(isRepeating):\n",
    "    global second_success_amount\n",
    "    global second_reject_amount\n",
    "    global second_machine_time\n",
    "    global current_time\n",
    "    \n",
    "    if (work_with_item(decline_second_machine)):\n",
    "        second_success_amount += 1\n",
    "        \n",
    "        if (second_machine_time <= current_time):\n",
    "            # work is done for this item\n",
    "            second_machine_time = current_time + get_service_time_value(50)\n",
    "            customers_time.append(second_machine_time)\n",
    "            customers_status.append('finished')\n",
    "        else:\n",
    "            # work is done after current-working-item finished working\n",
    "            second_machine_time += get_service_time_value(50)\n",
    "            customers_time.append(second_machine_time)\n",
    "            customers_status.append('finished')\n",
    "    else:\n",
    "        if (isRepeating == 1):\n",
    "            customers_time.append(second_machine_time)\n",
    "            customers_status.append('garbage')\n",
    "        \n",
    "        second_reject_amount += 1\n",
    "        customers_time.append(second_machine_time)\n",
    "        customers_status.append('repeat')"
   ]
  },
  {
   "cell_type": "markdown",
   "metadata": {},
   "source": [
    "# Simulation"
   ]
  },
  {
   "cell_type": "code",
   "execution_count": 12,
   "metadata": {},
   "outputs": [],
   "source": [
    "i = 0 # current arrival that is supported\n",
    "\n",
    "for i in range(len(customers_time)):\n",
    "    current_time = customers_time[i]\n",
    "    \n",
    "    # ARRIVALS\n",
    "    if (customers_status[i] == 'arrive'):\n",
    "        machine_number = number_of_machine_to_work_on()\n",
    "        if (machine_number == 1):\n",
    "            first_machine()\n",
    "        if (machine_number == 2):\n",
    "            second_machine(0)\n",
    "    \n",
    "    # FINISHED\n",
    "    if (customers_status[i] == 'finished'):\n",
    "        finished_amount += 1\n",
    "        \n",
    "    # REPEAT\n",
    "    if (customers_status[i] == 'repeat'):\n",
    "        second_machine(1)\n",
    "        repeat_amount += 1\n",
    "    \n",
    "    # GARBAGE\n",
    "    if (customers_status[i] == 'repeat'):\n",
    "        garbage_amount += 1    "
   ]
  },
  {
   "cell_type": "markdown",
   "metadata": {},
   "source": [
    "### Results"
   ]
  },
  {
   "cell_type": "code",
   "execution_count": 13,
   "metadata": {},
   "outputs": [
    {
     "name": "stdout",
     "output_type": "stream",
     "text": [
      "Rejects:  308\n",
      "Successes:  192\n",
      "Garbage items:  0\n",
      "Finishes:  0\n",
      "Repeats:  0\n"
     ]
    }
   ],
   "source": [
    "print('Rejects: ', first_reject_amount + second_reject_amount)\n",
    "print('Successes: ', first_success_amount + second_success_amount)\n",
    "print('Garbage items: ', garbage_amount)\n",
    "print('Finishes: ', finished_amount)\n",
    "print('Repeats: ', repeat_amount)"
   ]
  },
  {
   "cell_type": "code",
   "execution_count": null,
   "metadata": {},
   "outputs": [],
   "source": []
  }
 ],
 "metadata": {
  "kernelspec": {
   "display_name": "Python 3",
   "language": "python",
   "name": "python3"
  },
  "language_info": {
   "codemirror_mode": {
    "name": "ipython",
    "version": 3
   },
   "file_extension": ".py",
   "mimetype": "text/x-python",
   "name": "python",
   "nbconvert_exporter": "python",
   "pygments_lexer": "ipython3",
   "version": "3.7.3"
  }
 },
 "nbformat": 4,
 "nbformat_minor": 2
}
